{
 "cells": [
  {
   "cell_type": "code",
   "execution_count": 3,
   "id": "7b3708ba",
   "metadata": {},
   "outputs": [
    {
     "name": "stdout",
     "output_type": "stream",
     "text": [
      "Fitting 5 folds for each of 1 candidates, totalling 5 fits\n",
      "Best model for KNN:\n",
      "{'accuracy': 0.859, 'recall': 0.832, 'F1 score': 0.86}\n",
      "Fitting 5 folds for each of 1 candidates, totalling 5 fits\n",
      "Best model for Random Forest:\n",
      "{'accuracy': 1.0, 'recall': 1.0, 'F1 score': 1.0}\n",
      "Fitting 5 folds for each of 1 candidates, totalling 5 fits\n",
      "Best model for SVM:\n",
      "{'accuracy': 0.902, 'recall': 0.907, 'F1 score': 0.907}\n"
     ]
    },
    {
     "data": {
      "text/plain": [
       "['best_model.h5']"
      ]
     },
     "execution_count": 3,
     "metadata": {},
     "output_type": "execute_result"
    }
   ],
   "source": [
    "import numpy as np\n",
    "import pandas as pd\n",
    "import matplotlib.pyplot as plt\n",
    "import seaborn as sns\n",
    "from sklearn.model_selection import train_test_split, GridSearchCV\n",
    "from sklearn.neighbors import KNeighborsClassifier\n",
    "from sklearn.ensemble import RandomForestClassifier\n",
    "from sklearn.svm import SVC\n",
    "from sklearn.metrics import accuracy_score, recall_score, f1_score\n",
    "from sklearn.preprocessing import MinMaxScaler\n",
    "\n",
    "# Define the evaluation function\n",
    "def evaluation(Y_test, Y_pred):\n",
    "    acc = accuracy_score(Y_test, Y_pred)\n",
    "    rcl = recall_score(Y_test, Y_pred)\n",
    "    f1 = f1_score(Y_test, Y_pred)\n",
    "\n",
    "    metric_dict = {\n",
    "        'accuracy': round(acc, 3),\n",
    "        'recall': round(rcl, 3),\n",
    "        'F1 score': round(f1, 3),\n",
    "    }\n",
    "\n",
    "    return print(metric_dict)\n",
    "\n",
    "# Load the dataset\n",
    "df = pd.read_csv(\"heart.csv\")\n",
    "\n",
    "# Preprocessing and feature scaling\n",
    "scaler = MinMaxScaler()\n",
    "features = ['age', 'sex', 'cp', 'trestbps', 'chol', 'fbs', 'restecg', 'thalach', 'exang', 'oldpeak', 'slope', 'ca', 'thal']\n",
    "df[features] = scaler.fit_transform(df[features])\n",
    "\n",
    "# Create features and target variable\n",
    "X = df.drop(\"target\", axis=1).values\n",
    "Y = df.target.values\n",
    "\n",
    "# Split the data into train and test sets\n",
    "X_train, X_test, Y_train, Y_test = train_test_split(X, Y, random_state=0, test_size=0.2)\n",
    "\n",
    "# Define classifiers\n",
    "classifiers = {\n",
    "    'KNN': KNeighborsClassifier(),\n",
    "    'Random Forest': RandomForestClassifier(),\n",
    "    'SVM': SVC()\n",
    "}\n",
    "\n",
    "# Hyperparameter tuning using GridSearchCV\n",
    "best_models = {}\n",
    "for name, clf in classifiers.items():\n",
    "    param_grid = {}  # Add hyperparameter grid for each classifier\n",
    "\n",
    "    # Perform GridSearchCV\n",
    "    grid_search = GridSearchCV(clf, param_grid, cv=5, verbose=True)\n",
    "    grid_search.fit(X_train, Y_train)\n",
    "    \n",
    "    # Save the best model\n",
    "    best_models[name] = grid_search.best_estimator_\n",
    "\n",
    "    # Evaluate the model\n",
    "    Y_pred = grid_search.predict(X_test)\n",
    "    print(f\"Best model for {name}:\")\n",
    "    evaluation(Y_test, Y_pred)\n",
    "\n",
    "# Save the best model as .h5 file\n",
    "import joblib\n",
    "joblib.dump(best_models['Random Forest'], 'best_model.joblib')\n"
   ]
  },
  {
   "cell_type": "code",
   "execution_count": null,
   "id": "8853b153",
   "metadata": {},
   "outputs": [],
   "source": []
  }
 ],
 "metadata": {
  "kernelspec": {
   "display_name": "Python 3 (ipykernel)",
   "language": "python",
   "name": "python3"
  },
  "language_info": {
   "codemirror_mode": {
    "name": "ipython",
    "version": 3
   },
   "file_extension": ".py",
   "mimetype": "text/x-python",
   "name": "python",
   "nbconvert_exporter": "python",
   "pygments_lexer": "ipython3",
   "version": "3.10.7"
  }
 },
 "nbformat": 4,
 "nbformat_minor": 5
}
